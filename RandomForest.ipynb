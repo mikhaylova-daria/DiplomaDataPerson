{
 "cells": [
  {
   "cell_type": "code",
   "execution_count": 36,
   "metadata": {
    "collapsed": true
   },
   "outputs": [],
   "source": [
    "from scipy import sparse\n",
    "import csv\n",
    "import sys\n",
    "import os\n",
    "import pandas\n",
    "import numpy as np\n",
    "import multiprocessing"
   ]
  },
  {
   "cell_type": "code",
   "execution_count": 37,
   "metadata": {
    "collapsed": false
   },
   "outputs": [],
   "source": [
    "X = []\n",
    "Y = []\n",
    "f1=open(unicode('./datasetPersonTab'))\n",
    "f2=open(unicode('./datasetNNPTab'))\n",
    "for i, line in enumerate(f1):\n",
    "    if (i == 0):\n",
    "        continue\n",
    "    X.append(line.strip().split('\\t')[4:])\n",
    "    Y.append('Person')\n",
    "size = len(X)\n",
    "np.random.shuffle(X)\n",
    "for i, line in enumerate(f2):\n",
    "    if (i == 0):\n",
    "        continue\n",
    "    X.append(line.strip().split('\\t')[4:])\n",
    "    Y.append('No')\n",
    "np.random.shuffle(X[size:])"
   ]
  },
  {
   "cell_type": "code",
   "execution_count": 38,
   "metadata": {
    "collapsed": false
   },
   "outputs": [],
   "source": [
    "set_futures =[]\n",
    "for i in range(27):\n",
    "    set_futures.append(set())\n",
    "for x in X:\n",
    "    for i, x_i in enumerate(x):\n",
    "        set_futures[i].add(x_i)"
   ]
  },
  {
   "cell_type": "code",
   "execution_count": 39,
   "metadata": {
    "collapsed": false
   },
   "outputs": [],
   "source": [
    "feature_dict = []\n",
    "for i in range(27):\n",
    "    feature_dict.append(dict())\n",
    "    \n",
    "for i in range(27):\n",
    "    count = 0\n",
    "    for x in set_futures[i]:\n",
    "        feature_dict[i][x] = count\n",
    "        count+=1"
   ]
  },
  {
   "cell_type": "code",
   "execution_count": 50,
   "metadata": {
    "collapsed": false
   },
   "outputs": [],
   "source": [
    "X_int=[]\n",
    "for x in X:\n",
    "    X_int.append(x) \n",
    "for i, x in enumerate(X):\n",
    "    for j, x_j in enumerate(x):\n",
    "        X_int[i][j]=feature_dict[j][x_j]"
   ]
  },
  {
   "cell_type": "code",
   "execution_count": 51,
   "metadata": {
    "collapsed": true
   },
   "outputs": [],
   "source": [
    "from sklearn.preprocessing import OneHotEncoder\n",
    "enc = OneHotEncoder()"
   ]
  },
  {
   "cell_type": "code",
   "execution_count": 52,
   "metadata": {
    "collapsed": false
   },
   "outputs": [
    {
     "data": {
      "text/plain": [
       "<608280x243312 sparse matrix of type '<type 'numpy.float64'>'\n",
       "\twith 16423560 stored elements in Compressed Sparse Row format>"
      ]
     },
     "execution_count": 52,
     "metadata": {},
     "output_type": "execute_result"
    }
   ],
   "source": [
    "enc.fit_transform(X_int)"
   ]
  },
  {
   "cell_type": "code",
   "execution_count": 53,
   "metadata": {
    "collapsed": false
   },
   "outputs": [],
   "source": [
    "X_sparse_matrix = enc.transform(X_int[:70000]+X_int[200000:330000])"
   ]
  },
  {
   "cell_type": "code",
   "execution_count": 56,
   "metadata": {
    "collapsed": false
   },
   "outputs": [
    {
     "data": {
      "text/plain": [
       "(200000, 243312)"
      ]
     },
     "execution_count": 56,
     "metadata": {},
     "output_type": "execute_result"
    }
   ],
   "source": [
    "X_sparse_matrix.shape"
   ]
  },
  {
   "cell_type": "code",
   "execution_count": 57,
   "metadata": {
    "collapsed": false
   },
   "outputs": [],
   "source": [
    "import sklearn.ensemble  \n",
    "RF = sklearn.ensemble.RandomForestClassifier(n_estimators=400, n_jobs=-1)"
   ]
  },
  {
   "cell_type": "code",
   "execution_count": null,
   "metadata": {
    "collapsed": false
   },
   "outputs": [],
   "source": [
    "X_new = RF.fit_transform(X_sparse_matrix, Y[:70000]+Y[200000:330000])"
   ]
  },
  {
   "cell_type": "markdown",
   "metadata": {
    "collapsed": true
   },
   "source": [
    "DONE!!!"
   ]
  },
  {
   "cell_type": "code",
   "execution_count": null,
   "metadata": {
    "collapsed": false
   },
   "outputs": [],
   "source": [
    "Y_train =RF.predict(enc.transform(X_int[5000:5500]))"
   ]
  },
  {
   "cell_type": "code",
   "execution_count": null,
   "metadata": {
    "collapsed": false
   },
   "outputs": [],
   "source": [
    "f_n = 0\n",
    "f_p = 0\n",
    "t_n=0\n",
    "t_p=0\n",
    "for i, y in enumerate(Y_train):\n",
    "    if y != Y[5000+i]:\n",
    "        if y=='No':\n",
    "            f_n+=1\n",
    "            #print X[10000+i]\n",
    "        else:\n",
    "            f_p+=1\n",
    "    elif y =='No':\n",
    "        t_n+=1\n",
    "    else:\n",
    "        t_p+=1\n",
    "recall = t_p*1./(t_p+f_n+1)\n",
    "presision = t_p*1./(t_p+f_p+1)\n",
    "print recall\n",
    "print presision\n",
    "print f_p, f_n, t_p, t_n\n",
    "    "
   ]
  },
  {
   "cell_type": "code",
   "execution_count": null,
   "metadata": {
    "collapsed": false
   },
   "outputs": [],
   "source": [
    "F_measure = 2*presision*recall/(presision+recall)\n",
    "print F_measure"
   ]
  },
  {
   "cell_type": "code",
   "execution_count": null,
   "metadata": {
    "collapsed": true
   },
   "outputs": [],
   "source": [
    "scores = cross_validation.cross_val_score(RF, X_sparse_matrix, Y[:300000], cv = 9,n_jobs=-1)"
   ]
  },
  {
   "cell_type": "markdown",
   "metadata": {},
   "source": [
    "TO DO"
   ]
  },
  {
   "cell_type": "code",
   "execution_count": null,
   "metadata": {
    "collapsed": false
   },
   "outputs": [],
   "source": [
    "X = sparse.lil_matrix((96946 + 511334, 27))\n",
    "Y = sparse.lil_matrix((96946 + 511334, 1))\n",
    "f2=open(unicode('./datasetNNPTab'))\n",
    "f1=open(unicode('./datasetPersonTab'))\n",
    "for i, line in enumerate(f1):\n",
    "    if (i == 0):\n",
    "        continue\n",
    "    #X.append(line.split('\\t')[4:])\n",
    "    #Y.append('Person')\n",
    "    X[i][0:27]=line.split('\\t')[4:]\n",
    "    Y[i] = 'Person'\n",
    "size = len(X)\n",
    "np.random.shuffle(X)\n",
    "for i, line in enumerate(f2):\n",
    "    X[i][0:27]=line.split('\\t')[4:]\n",
    "    Y[i] = 'No'"
   ]
  },
  {
   "cell_type": "code",
   "execution_count": null,
   "metadata": {
    "collapsed": true
   },
   "outputs": [],
   "source": [
    "size = len(X)\n",
    "np.random.shuffle(X)\n",
    "for i, line in enumerate(f2):\n",
    "    for j in range(27):\n",
    "        X.append(line.split('\\t')[4:])\n",
    "    Y.append('No')\n",
    "np.random.shuffle(X[size:])"
   ]
  },
  {
   "cell_type": "code",
   "execution_count": null,
   "metadata": {
    "collapsed": false
   },
   "outputs": [],
   "source": [
    "print len(X)\n",
    "print X[:2]"
   ]
  },
  {
   "cell_type": "code",
   "execution_count": null,
   "metadata": {
    "collapsed": false
   },
   "outputs": [],
   "source": [
    "X = np.array(X)"
   ]
  },
  {
   "cell_type": "code",
   "execution_count": null,
   "metadata": {
    "collapsed": false
   },
   "outputs": [],
   "source": [
    "Y = np.array(Y)"
   ]
  },
  {
   "cell_type": "code",
   "execution_count": null,
   "metadata": {
    "collapsed": false
   },
   "outputs": [],
   "source": [
    "X_train=X[:size/2]+X[(size+1):(2*size)]\n",
    "Y_train=Y[:size/2]+Y[(size+1):(2*size)]\n",
    "X_test=X[size/2+1:size/2+size/4]+X[(2*size+1):(2*size+1+size/2)]\n",
    "Y_test=Y[size/2+1:size/2+size/4]+Y[(2*size+1):(2*size+1+size/2)]"
   ]
  },
  {
   "cell_type": "code",
   "execution_count": null,
   "metadata": {
    "collapsed": false
   },
   "outputs": [],
   "source": [
    "X_train  = np.array(X_train)\n",
    "X_train.shape"
   ]
  },
  {
   "cell_type": "code",
   "execution_count": null,
   "metadata": {
    "collapsed": false
   },
   "outputs": [],
   "source": [
    "S = [[0, 1, 4], [2, 3, 5]]\n",
    "X_train= np.array(S)\n",
    "print X_train.shape, Y_train.shape\n"
   ]
  },
  {
   "cell_type": "code",
   "execution_count": null,
   "metadata": {
    "collapsed": false
   },
   "outputs": [],
   "source": [
    "X_new = RF.fit_transform(X_train, Y_train)"
   ]
  },
  {
   "cell_type": "code",
   "execution_count": null,
   "metadata": {
    "collapsed": false
   },
   "outputs": [],
   "source": [
    "RF.fit(X_train, Y_train)"
   ]
  },
  {
   "cell_type": "code",
   "execution_count": null,
   "metadata": {
    "collapsed": true
   },
   "outputs": [],
   "source": []
  }
 ],
 "metadata": {
  "kernelspec": {
   "display_name": "Python 2",
   "language": "python",
   "name": "python2"
  },
  "language_info": {
   "codemirror_mode": {
    "name": "ipython",
    "version": 2
   },
   "file_extension": ".py",
   "mimetype": "text/x-python",
   "name": "python",
   "nbconvert_exporter": "python",
   "pygments_lexer": "ipython2",
   "version": "2.7.11"
  }
 },
 "nbformat": 4,
 "nbformat_minor": 0
}
